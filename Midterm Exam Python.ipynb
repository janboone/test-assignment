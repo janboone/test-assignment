{
 "cells": [
  {
   "cell_type": "markdown",
   "metadata": {
    "deletable": false,
    "editable": false,
    "nbgrader": {
     "checksum": "0cbd5327e5a4fe663983459f8ba1988a",
     "grade": false,
     "grade_id": "cell-14af9d841db76a94",
     "locked": true,
     "schema_version": 1,
     "solution": false
    }
   },
   "source": [
    "Fill in your name, student number, university number:\n",
    "\n",
    "NAME = \"Adam Smith, #SNR#, #UNR#\""
   ]
  },
  {
   "cell_type": "markdown",
   "metadata": {
    "deletable": false,
    "editable": false,
    "nbgrader": {
     "checksum": "fea3c7e2bc7bef2d60df369192fd2d16",
     "grade": false,
     "grade_id": "cell-fb6bd01f9e7fd864",
     "locked": true,
     "schema_version": 1,
     "solution": false
    }
   },
   "source": [
    "# Exam March 27, 2019\n",
    "\n",
    "This is the notebook of the exam.\n",
    "\n",
    "A correct and complete answer gives you **1 point** for each question below. As there are 10 questions, the max. grade equals 10.\n",
    "\n",
    "In the cell above, give us your name, student number and university number in the way indicated. \n",
    "\n",
    "Fill in the notebook (see below for code cells and text cells that you need to fill in).\n",
    "\n",
    "If you look at the menus above (File, Edit, View etc.), there is one called \"Cell\". If you click on this, you can change the \"Cell Type\". Choose \"Code\" when you are typing python code. Choose \"Markdown\" when you are typing, well, markdown.\n",
    "\n",
    "When you finish the notebook, make sure that you:\n",
    "\n",
    "1. save it with the output of your code included;\n",
    "2. do not open the exam notebook after the exam: this will invalidate your exam\n",
    "3. download the file from the russet server to the Desktop in your exam environment:\n",
    "\n",
    "    * go to File at the top-left of this window\n",
    "    * File -> Download as -> Notebook (.ipynb):\n",
    "    * click on Notebook (.ipynb) and select Desktop\n",
    "\n",
    "\n",
    "4. then in the exam/question environment click the \"Browse\" button and select the exam file that you just downloaded."
   ]
  },
  {
   "cell_type": "markdown",
   "metadata": {},
   "source": [
    "## Exam\n",
    "\n",
    "First, we import the usual libraries."
   ]
  },
  {
   "cell_type": "code",
   "execution_count": null,
   "metadata": {
    "deletable": false,
    "editable": false,
    "nbgrader": {
     "checksum": "701a17810466ac3f83342a4681f2446f",
     "grade": false,
     "grade_id": "cell-59c55e07cfcdda65",
     "locked": true,
     "schema_version": 1,
     "solution": false
    }
   },
   "outputs": [],
   "source": [
    "from scipy import optimize\n",
    "import numpy as np\n",
    "import matplotlib.pyplot as plt\n",
    "import pandas as pd\n",
    "%matplotlib inline"
   ]
  },
  {
   "cell_type": "markdown",
   "metadata": {
    "deletable": false,
    "editable": false,
    "nbgrader": {
     "checksum": "69d9b58e43f0bda1fc3d34d48f2d775b",
     "grade": false,
     "grade_id": "cell-1b1e9e63216bee56",
     "locked": true,
     "schema_version": 1,
     "solution": false
    }
   },
   "source": [
    "Consider an agent with utility function $u(x,h) = x - 0.5*a*h^2$ where $x$ is consumption of the (only) product in the economy and $h$ denotes hours worked. The budget constraint for the agent is given by $px = wh$ where $p$ denotes the price of the consumption good and $w$ denotes the wage per hour worked.\n",
    "\n",
    "We normalize $w=1$.\n",
    "\n",
    "We use python to analyze the consumption choices of an agent with this utility function."
   ]
  },
  {
   "cell_type": "markdown",
   "metadata": {
    "deletable": false,
    "editable": false,
    "nbgrader": {
     "checksum": "73727b2b855e3e3db16f7f846749781c",
     "grade": false,
     "grade_id": "cell-fa4c02d68dded339",
     "locked": true,
     "schema_version": 1,
     "solution": false
    }
   },
   "source": [
    "**a)** Substitute the budget constraint into the utility function to derive that utility as a function of $x$ can be written as:\n",
    "\n",
    "\\begin{equation}\n",
    "x - 0.5*a*p^2*x^2\n",
    "\\end{equation}\n",
    "\n",
    "Use the markdown cell below to give us this derivation."
   ]
  },
  {
   "cell_type": "markdown",
   "metadata": {
    "deletable": false,
    "nbgrader": {
     "checksum": "51a3eb41bac94ea5b6b33794a9f31453",
     "grade": true,
     "grade_id": "cell-40c40d418dca5b7d",
     "locked": false,
     "points": 1,
     "schema_version": 1,
     "solution": true
    }
   },
   "source": [
    "YOUR ANSWER HERE"
   ]
  },
  {
   "cell_type": "markdown",
   "metadata": {
    "deletable": false,
    "editable": false,
    "nbgrader": {
     "checksum": "7e1099b219ef6dfb6717f716dd494947",
     "grade": false,
     "grade_id": "cell-ac73cce77397d03d",
     "locked": true,
     "schema_version": 1,
     "solution": false
    }
   },
   "source": [
    "First we will work with $a=1$ and define the function `u(x,p)` as follows."
   ]
  },
  {
   "cell_type": "code",
   "execution_count": null,
   "metadata": {
    "deletable": false,
    "editable": false,
    "nbgrader": {
     "checksum": "53a74fca47fffc7de834052f86471c5c",
     "grade": false,
     "grade_id": "cell-235ae2b4ae384db0",
     "locked": true,
     "schema_version": 1,
     "solution": false
    }
   },
   "outputs": [],
   "source": [
    "def u(x,p):\n",
    "    return x - 0.5*p**2*x**2"
   ]
  },
  {
   "cell_type": "markdown",
   "metadata": {
    "deletable": false,
    "editable": false,
    "nbgrader": {
     "checksum": "b64f34de95234961da7d0a4a24a0d8e4",
     "grade": false,
     "grade_id": "cell-7587e7f7c110abb9",
     "locked": true,
     "schema_version": 1,
     "solution": false
    }
   },
   "source": [
    "**b)** Define a range for $x$ from 0.0 up to and including 2.0 with steps of 0.1. Then plot the function $u(x,p)$ as a function of $x$ where we choose $p=1$."
   ]
  },
  {
   "cell_type": "code",
   "execution_count": null,
   "metadata": {
    "deletable": false,
    "nbgrader": {
     "checksum": "9fe95d2a096b8eb8a2932c78cca5d663",
     "grade": true,
     "grade_id": "cell-1ac42692a63104cf",
     "locked": false,
     "points": 1,
     "schema_version": 1,
     "solution": true
    }
   },
   "outputs": [],
   "source": [
    "# YOUR CODE HERE\n",
    "raise NotImplementedError()"
   ]
  },
  {
   "cell_type": "markdown",
   "metadata": {
    "deletable": false,
    "editable": false,
    "nbgrader": {
     "checksum": "f95db983f0e3d93acc00217c8956fded",
     "grade": false,
     "grade_id": "cell-58224624f4484dc1",
     "locked": true,
     "schema_version": 1,
     "solution": false
    }
   },
   "source": [
    "**c)** Use `optimize.fmin` to derive the value of $x$ that maximizes utility in the case where $p=1$. \n",
    "\n",
    "[hint: use the graph above to check whether you indeed get the correct value of $x$]"
   ]
  },
  {
   "cell_type": "code",
   "execution_count": null,
   "metadata": {
    "deletable": false,
    "nbgrader": {
     "checksum": "6999306237b0ba92bc4ca848fc2ff517",
     "grade": true,
     "grade_id": "cell-daf430ae850d01a0",
     "locked": false,
     "points": 1,
     "schema_version": 1,
     "solution": true
    }
   },
   "outputs": [],
   "source": [
    "# YOUR CODE HERE\n",
    "raise NotImplementedError()"
   ]
  },
  {
   "cell_type": "markdown",
   "metadata": {
    "deletable": false,
    "editable": false,
    "nbgrader": {
     "checksum": "e57160ae74c85c0b020cca1d362ed004",
     "grade": false,
     "grade_id": "cell-b12cb0c0f81933e4",
     "locked": true,
     "schema_version": 1,
     "solution": false
    }
   },
   "source": [
    "**d)** Complete the function below to calculate the optimal value for $x$ for each value of $p$. \n",
    "\n",
    "[hint 1: use your answer above but not with price equal to 1; \n",
    "\n",
    "hint 2: to simplify your output below, you may want to set the parameter `disp` equal to 0: `disp=0`; run `optimize.fmin?` to get more information]"
   ]
  },
  {
   "cell_type": "code",
   "execution_count": null,
   "metadata": {
    "deletable": false,
    "nbgrader": {
     "checksum": "05f91c8b85ad2e82b3558b53bbcb37a7",
     "grade": true,
     "grade_id": "cell-a94beabbf7e1ff1a",
     "locked": false,
     "points": 1,
     "schema_version": 1,
     "solution": true
    }
   },
   "outputs": [],
   "source": [
    "def optimal_x(p):\n",
    "    # YOUR CODE HERE\n",
    "    raise NotImplementedError()"
   ]
  },
  {
   "cell_type": "markdown",
   "metadata": {
    "deletable": false,
    "editable": false,
    "nbgrader": {
     "checksum": "f86ec635a1c842381e2b45a8c28caf95",
     "grade": false,
     "grade_id": "cell-aa8005194e11822b",
     "locked": true,
     "schema_version": 1,
     "solution": false
    }
   },
   "source": [
    "**e)** Define a range for price, `p_range` starting from 0.5 up to and including 3.0 with steps of 0.1. Plot the demand function with $x$ on the horizontal axis and $p$ on the vertical axis. Also add the labels $x$ and $p$ to the resp. axes.\n",
    "\n",
    "\n",
    "[hint: if you did not use `disp=0` above, you need to scroll down to see your graph]"
   ]
  },
  {
   "cell_type": "code",
   "execution_count": null,
   "metadata": {
    "deletable": false,
    "nbgrader": {
     "checksum": "59c444196bda2312f3abc3b945d7ff7b",
     "grade": true,
     "grade_id": "cell-fe872126dbddd7a0",
     "locked": false,
     "points": 1,
     "schema_version": 1,
     "solution": true
    }
   },
   "outputs": [],
   "source": [
    "# YOUR CODE HERE\n",
    "raise NotImplementedError()"
   ]
  },
  {
   "cell_type": "markdown",
   "metadata": {
    "deletable": false,
    "editable": false,
    "nbgrader": {
     "checksum": "27f832d57800331c7ae4b30ec240d4ab",
     "grade": false,
     "grade_id": "cell-56eed78250d8f438",
     "locked": true,
     "schema_version": 1,
     "solution": false
    }
   },
   "source": [
    "Now we re-introduce the parameter $a$. For each value of $a$ we derive the demand function. \n",
    "\n",
    "Think of different values of $a$ as different agents. Below we define 5 agents with values of $a$ equal to 1,2,3,4,5 resp.\n",
    "\n",
    "The following function is useful here (and may help you improve/correct functions you defined above yourself...)"
   ]
  },
  {
   "cell_type": "code",
   "execution_count": null,
   "metadata": {
    "deletable": false,
    "editable": false,
    "nbgrader": {
     "checksum": "a0282ba11da56214b4e9559bc81b9fb5",
     "grade": false,
     "grade_id": "cell-b721f9a5b8ad8c9d",
     "locked": true,
     "schema_version": 1,
     "solution": false
    }
   },
   "outputs": [],
   "source": [
    "def demand(p,a):\n",
    "    return optimize.fmin(lambda x: -(x - 0.5*a*p**2*x**2),0.1,disp=0)[0]\n",
    "    "
   ]
  },
  {
   "cell_type": "markdown",
   "metadata": {},
   "source": [
    "Evaluate the cell below and check what `list_p`, `list_a` and `list_demand` look like."
   ]
  },
  {
   "cell_type": "code",
   "execution_count": null,
   "metadata": {
    "deletable": false,
    "editable": false,
    "nbgrader": {
     "checksum": "aac7957d68ba25074f5b5391ee63cace",
     "grade": false,
     "grade_id": "cell-6354b9e8203f604d",
     "locked": true,
     "schema_version": 1,
     "solution": false
    }
   },
   "outputs": [],
   "source": [
    "a_range = np.arange(1,6)\n",
    "list_p = []\n",
    "list_a = []\n",
    "list_demand = []\n",
    "\n",
    "for p in p_range:\n",
    "    for a in a_range:\n",
    "        list_p.append(p)\n",
    "        list_a.append(a)\n",
    "        list_demand.append(demand(p,a))\n",
    "        "
   ]
  },
  {
   "cell_type": "markdown",
   "metadata": {
    "deletable": false,
    "editable": false,
    "nbgrader": {
     "checksum": "11ac0d4f91ec0a530b1f693179c27219",
     "grade": false,
     "grade_id": "cell-9833c3aaf17b9c76",
     "locked": true,
     "schema_version": 1,
     "solution": false
    }
   },
   "source": [
    "**f)** Create a dataframe `df` which consists of three columns: `p`, `a`, and `demand` for these values of `p` and `a`."
   ]
  },
  {
   "cell_type": "code",
   "execution_count": null,
   "metadata": {
    "deletable": false,
    "nbgrader": {
     "checksum": "676b768cd1994bdb94ce3e2c2cc1d60a",
     "grade": true,
     "grade_id": "cell-3a80a5120ee19fd6",
     "locked": false,
     "points": 1,
     "schema_version": 1,
     "solution": true
    }
   },
   "outputs": [],
   "source": [
    "# YOUR CODE HERE\n",
    "raise NotImplementedError()"
   ]
  },
  {
   "cell_type": "markdown",
   "metadata": {
    "deletable": false,
    "editable": false,
    "nbgrader": {
     "checksum": "ba9af0e63f9771540e13b699812d9f37",
     "grade": false,
     "grade_id": "cell-dc92ae8486c7e8a4",
     "locked": true,
     "schema_version": 1,
     "solution": false
    }
   },
   "source": [
    "The code below generates a figure with the demand function for the agent with $a=1$."
   ]
  },
  {
   "cell_type": "code",
   "execution_count": null,
   "metadata": {
    "deletable": false,
    "editable": false,
    "nbgrader": {
     "checksum": "368f5e75c61f39642b559d50ec692d57",
     "grade": false,
     "grade_id": "cell-f1c59dc8d6782342",
     "locked": true,
     "schema_version": 1,
     "solution": false
    }
   },
   "outputs": [],
   "source": [
    "selected_a = 1\n",
    "plt.plot(df[df.a==selected_a].demand,df[df.a==selected_a].p, label='a='+str(selected_a))\n",
    "plt.legend()"
   ]
  },
  {
   "cell_type": "markdown",
   "metadata": {
    "deletable": false,
    "editable": false,
    "nbgrader": {
     "checksum": "ec77f86b7627cf0a1bf4f0f70d513937",
     "grade": false,
     "grade_id": "cell-034720353ff16791",
     "locked": true,
     "schema_version": 1,
     "solution": false
    }
   },
   "source": [
    "**g)** Use a `for` loop to plot in one figure the demand functions for each value of $a=1,2,...,5$. Make sure that we can see the value of $a$ for each curve."
   ]
  },
  {
   "cell_type": "code",
   "execution_count": null,
   "metadata": {
    "deletable": false,
    "nbgrader": {
     "checksum": "4ce1ae7206e035701d7f548c9782de63",
     "grade": true,
     "grade_id": "cell-e8ae486cc552414e",
     "locked": false,
     "points": 1,
     "schema_version": 1,
     "solution": true
    }
   },
   "outputs": [],
   "source": [
    "# YOUR CODE HERE\n",
    "raise NotImplementedError()"
   ]
  },
  {
   "cell_type": "markdown",
   "metadata": {
    "deletable": false,
    "editable": false,
    "nbgrader": {
     "checksum": "4e2494970770c3830015e70464618a99",
     "grade": false,
     "grade_id": "cell-7ca6a72b306fc4ac",
     "locked": true,
     "schema_version": 1,
     "solution": false
    }
   },
   "source": [
    "**h)** For which value of $a$ do we see the highest demand? What is the economic intuition for this?"
   ]
  },
  {
   "cell_type": "markdown",
   "metadata": {
    "deletable": false,
    "nbgrader": {
     "checksum": "f4d80e1586fece72605656302b24efb0",
     "grade": true,
     "grade_id": "cell-d202e46111c2d58a",
     "locked": false,
     "points": 1,
     "schema_version": 1,
     "solution": true
    }
   },
   "source": [
    "YOUR ANSWER HERE"
   ]
  },
  {
   "cell_type": "markdown",
   "metadata": {
    "deletable": false,
    "editable": false,
    "nbgrader": {
     "checksum": "dc1033331b1a9c550849d27939f7d46f",
     "grade": false,
     "grade_id": "cell-ca2a27677f9da26f",
     "locked": true,
     "schema_version": 1,
     "solution": false
    }
   },
   "source": [
    "**i)** Explain in economic terms what the following function calculates for each value of $p$."
   ]
  },
  {
   "cell_type": "code",
   "execution_count": null,
   "metadata": {
    "deletable": false,
    "editable": false,
    "nbgrader": {
     "checksum": "86c69d52d06fadb431582a8f9271d3f6",
     "grade": false,
     "grade_id": "cell-23f4e62a69ded31b",
     "locked": true,
     "schema_version": 1,
     "solution": false
    }
   },
   "outputs": [],
   "source": [
    "def f(p):\n",
    "    return np.sum([demand(p,a) for a in a_range])"
   ]
  },
  {
   "cell_type": "markdown",
   "metadata": {
    "deletable": false,
    "nbgrader": {
     "checksum": "fb1887dfa4218c8fe617496318490673",
     "grade": true,
     "grade_id": "cell-44a22220b17b8036",
     "locked": false,
     "points": 1,
     "schema_version": 1,
     "solution": true
    }
   },
   "source": [
    "YOUR ANSWER HERE"
   ]
  },
  {
   "cell_type": "markdown",
   "metadata": {
    "deletable": false,
    "editable": false,
    "nbgrader": {
     "checksum": "e1eaaff2bc90464ae5683bcf9ba66345",
     "grade": false,
     "grade_id": "cell-558a0c970f3886a8",
     "locked": true,
     "schema_version": 1,
     "solution": false
    }
   },
   "source": [
    "**j)** Consider a monopoly firm selling the consumption good denoted $x$ above. This firm produces this good with constant marginal cost equal to 0.5 (and no fixed cost of production). The firm sells to 5 consumers with the values for $a=1,2,...,5$.\n",
    "\n",
    "Calculate the profit maximizing price for this firm."
   ]
  },
  {
   "cell_type": "code",
   "execution_count": null,
   "metadata": {
    "deletable": false,
    "nbgrader": {
     "checksum": "6aff3f795026808bfd2c9e2fada44735",
     "grade": true,
     "grade_id": "cell-5d20f47078b940a1",
     "locked": false,
     "points": 1,
     "schema_version": 1,
     "solution": true
    }
   },
   "outputs": [],
   "source": [
    "# YOUR CODE HERE\n",
    "raise NotImplementedError()"
   ]
  },
  {
   "cell_type": "code",
   "execution_count": null,
   "metadata": {},
   "outputs": [],
   "source": []
  }
 ],
 "metadata": {
  "kernelspec": {
   "display_name": "Python [default]",
   "language": "python",
   "name": "python3"
  },
  "language_info": {
   "codemirror_mode": {
    "name": "ipython",
    "version": 3
   },
   "file_extension": ".py",
   "mimetype": "text/x-python",
   "name": "python",
   "nbconvert_exporter": "python",
   "pygments_lexer": "ipython3",
   "version": "3.6.7"
  },
  "toc": {
   "base_numbering": 1,
   "nav_menu": {},
   "number_sections": true,
   "sideBar": true,
   "skip_h1_title": false,
   "title_cell": "Table of Contents",
   "title_sidebar": "Contents",
   "toc_cell": false,
   "toc_position": {},
   "toc_section_display": true,
   "toc_window_display": false
  }
 },
 "nbformat": 4,
 "nbformat_minor": 2
}
